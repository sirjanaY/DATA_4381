{
 "cells": [
  {
   "cell_type": "code",
   "execution_count": null,
   "id": "9ddaaf80",
   "metadata": {},
   "outputs": [
    {
     "name": "stdout",
     "output_type": "stream",
     "text": [
      "\n",
      " County-Level Two-Way Fixed Effects (TWFE) Model\n",
      "                          PanelOLS Estimation Summary                           \n",
      "================================================================================\n",
      "Dep. Variable:              emp_incq1   R-squared:                        0.0015\n",
      "Estimator:                   PanelOLS   R-squared (Between):             -0.0006\n",
      "No. Observations:               37868   R-squared (Within):              -0.0080\n",
      "Date:                Wed, Oct 15 2025   R-squared (Overall):             -0.0032\n",
      "Time:                        16:18:30   Log-likelihood                 2.063e+04\n",
      "Cov. Estimator:             Clustered                                           \n",
      "                                        F-statistic:                      27.607\n",
      "Entities:                         753   P-value                           0.0000\n",
      "Avg Obs:                       50.290   Distribution:                 F(2,37062)\n",
      "Min Obs:                       28.000                                           \n",
      "Max Obs:                       52.000   F-statistic (robust):             1.7222\n",
      "                                        P-value                           0.1787\n",
      "Time periods:                      52   Distribution:                 F(2,37062)\n",
      "Avg Obs:                       728.23                                           \n",
      "Min Obs:                       128.00                                           \n",
      "Max Obs:                       753.00                                           \n",
      "                                                                                \n",
      "                               Parameter Estimates                                \n",
      "==================================================================================\n",
      "                Parameter  Std. Err.     T-stat    P-value    Lower CI    Upper CI\n",
      "----------------------------------------------------------------------------------\n",
      "const             -0.1287     0.0045    -28.534     0.0000     -0.1375     -0.1198\n",
      "Policy_DiD         0.0139     0.0207     0.6729     0.5010     -0.0267      0.0545\n",
      "covid_severity  3.503e-06  2.043e-06     1.7146     0.0864  -5.015e-07   7.508e-06\n",
      "==================================================================================\n",
      "\n",
      "F-test for Poolability: 115.93\n",
      "P-value: 0.0000\n",
      "Distribution: F(803,37062)\n",
      "\n",
      "Included effects: Entity, Time\n"
     ]
    }
   ],
   "source": [
    "import os\n",
    "from linearmodels.panel import PanelOLS\n",
    "import statsmodels.api as sm\n",
    "import pandas as pd\n",
    "\n",
    "def run_county_twfe_baseline_analysis():\n",
    "    \"\"\"\n",
    "    Loads panel data and runs the TWFE model with county fixed effects.\n",
    "    \"\"\"\n",
    "    \n",
    "    panel_data_path = 'twfe_panel_county_data.csv'\n",
    "    \n",
    "    panel_df = pd.read_csv(panel_data_path, parse_dates=['date'])\n",
    "    \n",
    "    # Set Up Panel Data Structure \n",
    "\n",
    "    # Set COUNTYFIP and date as the multi-index for PanelOLS ENTITY EFFECTS AND TIME EFFECTS\n",
    "    panel_df = panel_df.set_index(['COUNTYFIP', 'date'])\n",
    "    \n",
    "# model\n",
    "    dependent = panel_df['emp_incq1']\n",
    "    exog_vars = sm.add_constant(panel_df[['Policy_DiD', 'covid_severity']])\n",
    "    \n",
    "    # Specify the model with entity and time fixed effects\n",
    "    model = PanelOLS(dependent, exog_vars, entity_effects=True, time_effects=True)\n",
    "    \n",
    "\n",
    "    results = model.fit(cov_type='clustered', clusters=panel_df['STATEFIP'])\n",
    "    \n",
    "    # Display Results\n",
    "    print(\"\\n County-Level Two-Way Fixed Effects (TWFE) Model\")\n",
    "    print(results)\n",
    "\n",
    "if __name__ == '__main__':\n",
    "    run_county_twfe_baseline_analysis()\n"
   ]
  },
  {
   "cell_type": "markdown",
   "id": "27180776",
   "metadata": {},
   "source": [
    "## WITH A NEGATIVE R^2 AND HORRIBLE P VALUE WE SEE THAT NO EfFECT IS FOUND AND CORRELATION IS WORSE THAN IF IT WERE JUST A HORIZONTAL LINE"
   ]
  }
 ],
 "metadata": {
  "kernelspec": {
   "display_name": "utaenv (3.13.3)",
   "language": "python",
   "name": "python3"
  },
  "language_info": {
   "codemirror_mode": {
    "name": "ipython",
    "version": 3
   },
   "file_extension": ".py",
   "mimetype": "text/x-python",
   "name": "python",
   "nbconvert_exporter": "python",
   "pygments_lexer": "ipython3",
   "version": "3.13.3"
  }
 },
 "nbformat": 4,
 "nbformat_minor": 5
}
